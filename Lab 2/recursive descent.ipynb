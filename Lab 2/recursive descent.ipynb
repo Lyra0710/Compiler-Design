{
 "cells": [
  {
   "cell_type": "markdown",
   "metadata": {},
   "source": [
    "#### # Implement recursive descent parser for the following grammar:\n",
    "#### E -> TE'\n",
    "#### E' -> +TE' | epsilon\n",
    "#### T -> FT'\n",
    "#### T' -> *FT' | epsilon\n",
    "#### F -> (E) | id\n",
    "#### /////////////////////////////////////////////////////////////////////////\n",
    "#### E -> E+T|T\n",
    "#### T -> T*F|F\n",
    "#### F -> (E)|id"
   ]
  },
  {
   "cell_type": "markdown",
   "metadata": {},
   "source": [
    "#### Recursive descent parsing: Top-down parsing technique. The parser starts with the highest level production rule and recursively applies grammar rules to break down the input into smaller parts until it reaches terminal symbols, or a complete valid expression"
   ]
  },
  {
   "cell_type": "code",
   "execution_count": 11,
   "metadata": {},
   "outputs": [
    {
     "name": "stdout",
     "output_type": "stream",
     "text": [
      "Parsed successfully. Result: $\n"
     ]
    }
   ],
   "source": [
    "class RecursiveDescentParser:\n",
    "    def __init__(self, input_string):\n",
    "        self.input_string = input_string\n",
    "        self.current_index = 0\n",
    "\n",
    "    # The entry point of the parser\n",
    "    def parse(self): \n",
    "        return self.parse_e()\n",
    "    \n",
    "    # Parses expressions by calling 'parse_t()'. Handling '+'. \n",
    "    def parse_e(self):\n",
    "        result = self.parse_t()\n",
    "        while self.match('+'):\n",
    "            self.consume('+')\n",
    "            result += self.parse_t()\n",
    "        return result\n",
    "    \n",
    "    # Parses terms by calling 'parse_f()'. Handling '*'.\n",
    "    def parse_t(self):\n",
    "        result = self.parse_f()\n",
    "        while self.match('*'):\n",
    "            self.consume('*')\n",
    "            result *= self.parse_f()\n",
    "        return result\n",
    "    \n",
    "    # Parses factors. Handling '(' and identifiers.\n",
    "    def parse_f(self):\n",
    "        if self.match('('):\n",
    "            self.consume('(')\n",
    "            result = self.parse_e()\n",
    "            self.consume(')')\n",
    "            return result\n",
    "        elif self.is_id():\n",
    "            result = self.input_string[self.current_index - 1]  # Return the identifier as a string\n",
    "            return result\n",
    "        else:\n",
    "            raise SyntaxError(\"Syntax error at position \" + str(self.current_index))\n",
    "    \n",
    "    # Checks if the current token is the same as the given token\n",
    "    def match(self, token):\n",
    "        return self.current_index < len(self.input_string) and self.input_string[self.current_index] == token\n",
    "    \n",
    "    # Consumes the current token if it is the same as the given token\n",
    "    def consume(self, token):\n",
    "        if self.match(token):\n",
    "            self.current_index += 1\n",
    "        else:\n",
    "            raise SyntaxError(\"Syntax error at position \" + str(self.current_index))\n",
    "\n",
    "    def is_id(self):\n",
    "        return self.current_index < len(self.input_string) and self.input_string[self.current_index].isalnum()\n",
    "\n",
    "\n",
    "# Example with user input\n",
    "input_string = input(\"Enter an expression: \")\n",
    "parser = RecursiveDescentParser(input_string)\n",
    "try:\n",
    "    result = parser.parse()\n",
    "    print(\"Parsed successfully. Result:\", result)\n",
    "except SyntaxError as e:\n",
    "    print(\"Syntax error:\", e)\n"
   ]
  }
 ],
 "metadata": {
  "kernelspec": {
   "display_name": "Python 3",
   "language": "python",
   "name": "python3"
  },
  "language_info": {
   "codemirror_mode": {
    "name": "ipython",
    "version": 3
   },
   "file_extension": ".py",
   "mimetype": "text/x-python",
   "name": "python",
   "nbconvert_exporter": "python",
   "pygments_lexer": "ipython3",
   "version": "3.11.2"
  },
  "orig_nbformat": 4
 },
 "nbformat": 4,
 "nbformat_minor": 2
}
