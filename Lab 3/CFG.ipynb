{
 "cells": [
  {
   "cell_type": "markdown",
   "metadata": {},
   "source": [
    "#### 1. Read a CFG and print it (2 marks)"
   ]
  },
  {
   "cell_type": "code",
   "execution_count": 1,
   "metadata": {},
   "outputs": [
    {
     "name": "stdout",
     "output_type": "stream",
     "text": [
      "Enter the CFG rules one by one (enter 'q' to quit):\n",
      "\n",
      "Context-Free Grammar (CFG):\n",
      "S -> aSSbS | aSaSb | abb |b\n"
     ]
    }
   ],
   "source": [
    "# Define a function to read and print a CFG\n",
    "def read_and_print_cfg():\n",
    "    print(\"Enter the CFG rules one by one (enter 'q' to quit):\")\n",
    "    \n",
    "    # Initialize an empty list to store CFG rules\n",
    "    cfg_rules = []\n",
    "    \n",
    "    # Read CFG rules until the user enters 'q'\n",
    "    while True:\n",
    "        rule = input(\"Enter a CFG rule (e.g., S -> AB | a | b): \")\n",
    "        if rule.lower() == 'q':\n",
    "            break\n",
    "        cfg_rules.append(rule)\n",
    "    \n",
    "    # Print the CFG\n",
    "    print(\"\\nContext-Free Grammar (CFG):\")\n",
    "    for rule in cfg_rules:\n",
    "        print(rule)\n",
    "\n",
    "# Call the function to read and print the CFG\n",
    "read_and_print_cfg()\n"
   ]
  },
  {
   "cell_type": "markdown",
   "metadata": {},
   "source": []
  }
 ],
 "metadata": {
  "kernelspec": {
   "display_name": "Python 3",
   "language": "python",
   "name": "python3"
  },
  "language_info": {
   "codemirror_mode": {
    "name": "ipython",
    "version": 3
   },
   "file_extension": ".py",
   "mimetype": "text/x-python",
   "name": "python",
   "nbconvert_exporter": "python",
   "pygments_lexer": "ipython3",
   "version": "3.11.2"
  },
  "orig_nbformat": 4
 },
 "nbformat": 4,
 "nbformat_minor": 2
}
