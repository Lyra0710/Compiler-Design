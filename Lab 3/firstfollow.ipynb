{
 "cells": [
  {
   "cell_type": "markdown",
   "metadata": {},
   "source": [
    "#### Compute FIRST and FOLLOW of all non-terminals. (3 marks)"
   ]
  },
  {
   "cell_type": "markdown",
   "metadata": {},
   "source": [
    "#### Function to compute FIRST"
   ]
  },
  {
   "cell_type": "code",
   "execution_count": 75,
   "metadata": {},
   "outputs": [],
   "source": [
    "# Function to calculate First\n",
    "def find_first(grammar, non_terminal, first):\n",
    "    if non_terminal not in grammar:\n",
    "        return\n",
    "    for production in grammar[non_terminal]:\n",
    "        if production[0] not in grammar:\n",
    "            first.add(production[0])\n",
    "        else:\n",
    "            find_first(grammar, production[0], first)\n",
    "    return"
   ]
  },
  {
   "cell_type": "markdown",
   "metadata": {},
   "source": [
    "#### Function to compute FOLLOW"
   ]
  },
  {
   "cell_type": "code",
   "execution_count": 76,
   "metadata": {},
   "outputs": [],
   "source": [
    "# Functions to calculate Follow\n",
    "def find_follow(grammar, non_terminal, follow, visited):\n",
    "    if non_terminal not in grammar:\n",
    "        return\n",
    "    for key in grammar:\n",
    "        for production in grammar[key]:\n",
    "            if non_terminal in production:\n",
    "                index = production.index(non_terminal)\n",
    "                if index == len(production) - 1:\n",
    "                    if key not in visited:\n",
    "                        visited.add(key)\n",
    "                        find_follow(grammar, key, follow, visited)\n",
    "                else:\n",
    "                    symbol = production[index + 1]\n",
    "                    if symbol not in grammar:\n",
    "                        follow.add(symbol)\n",
    "                    else:\n",
    "                        first = set()\n",
    "                        find_first(grammar, symbol, first)\n",
    "                        if '#' in first:\n",
    "                            first.remove('#')\n",
    "                            follow.update(first)\n",
    "                            if key not in visited:\n",
    "                                visited.add(key)\n",
    "                                find_follow(grammar, key, follow, visited)\n",
    "                        else:\n",
    "                            follow.update(first)\n",
    "    return\n",
    "\n"
   ]
  },
  {
   "cell_type": "code",
   "execution_count": 77,
   "metadata": {},
   "outputs": [
    {
     "name": "stdout",
     "output_type": "stream",
     "text": [
      "FIRST sets:\n",
      "S {'a'}\n",
      "A {'b'}\n",
      "B {'c'}\n",
      "C {'d'}\n",
      "FOLLOW sets:\n",
      "S {'$'}\n",
      "A {'c'}\n",
      "B {'d'}\n",
      "C set()\n"
     ]
    }
   ],
   "source": [
    "# Main function\n",
    "def main():\n",
    "    grammar = {}\n",
    "    n = int(input(\"Enter the number of productions: \"))\n",
    "    for i in range(n):\n",
    "        production = input(\"Enter the production: \")\n",
    "        non_terminal = production.split(' -> ')[0]\n",
    "        if non_terminal not in grammar:\n",
    "            grammar[non_terminal] = []\n",
    "        grammar[non_terminal].append(production.split(' -> ')[1])\n",
    "    first = {}\n",
    "    follow = {}\n",
    "    for key in grammar:\n",
    "        first[key] = set()\n",
    "        find_first(grammar, key, first[key])\n",
    "        follow[key] = set()\n",
    "    start_symbol = input(\"Enter the start symbol: \")\n",
    "    follow[start_symbol].add('$')\n",
    "    for key in grammar:\n",
    "        visited = set()\n",
    "        find_follow(grammar, key, follow[key], visited)\n",
    "    print(\"FIRST sets:\")\n",
    "    for key in first:\n",
    "        print(key, first[key])\n",
    "    print(\"FOLLOW sets:\")\n",
    "    for key in follow:\n",
    "        print(key, follow[key])\n",
    "\n",
    "if __name__ == '__main__':\n",
    "    main()\n"
   ]
  }
 ],
 "metadata": {
  "kernelspec": {
   "display_name": "Python 3",
   "language": "python",
   "name": "python3"
  },
  "language_info": {
   "codemirror_mode": {
    "name": "ipython",
    "version": 3
   },
   "file_extension": ".py",
   "mimetype": "text/x-python",
   "name": "python",
   "nbconvert_exporter": "python",
   "pygments_lexer": "ipython3",
   "version": "3.11.2"
  },
  "orig_nbformat": 4
 },
 "nbformat": 4,
 "nbformat_minor": 2
}
