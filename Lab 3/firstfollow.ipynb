{
 "cells": [
  {
   "cell_type": "markdown",
   "metadata": {},
   "source": [
    "#### Compute FIRST and FOLLOW of all non-terminals. (3 marks)"
   ]
  },
  {
   "cell_type": "markdown",
   "metadata": {},
   "source": [
    "#### Function to compute FIRST"
   ]
  },
  {
   "cell_type": "code",
   "execution_count": 42,
   "metadata": {},
   "outputs": [],
   "source": [
    "def compute_first(grammar):\n",
    "    first = {}\n",
    "    for non_terminal in grammar:\n",
    "        first[non_terminal] = set()\n",
    "\n",
    "    while True:\n",
    "        updated = False\n",
    "        for non_terminal, productions in grammar.items():\n",
    "            for production in productions:\n",
    "                for symbol in production:\n",
    "                    if symbol in grammar:\n",
    "                        # For non-terminals, add FIRST(symbol) to FIRST(non_terminal)\n",
    "                        for s in first[symbol]:\n",
    "                            if s not in first[non_terminal]:\n",
    "                                first[non_terminal].add(s)\n",
    "                                updated = True\n",
    "                    else:\n",
    "                        # For terminals, add the terminal to FIRST(non_terminal)\n",
    "                        if symbol not in first[non_terminal]:\n",
    "                            first[non_terminal].add(symbol)\n",
    "                            updated = True\n",
    "                # If epsilon is in FIRST(symbol), add epsilon to FIRST(non_terminal)\n",
    "                if all(symbol in grammar and 'epsilon' in first[symbol] for symbol in production):\n",
    "                    if 'epsilon' not in first[non_terminal]:\n",
    "                        first[non_terminal].add('epsilon')\n",
    "                        updated = True\n",
    "        if not updated:\n",
    "            break\n",
    "    return first"
   ]
  },
  {
   "cell_type": "markdown",
   "metadata": {},
   "source": [
    "#### Function to compute FOLLOW"
   ]
  },
  {
   "cell_type": "code",
   "execution_count": 43,
   "metadata": {},
   "outputs": [],
   "source": [
    "def compute_follow(grammar, first):\n",
    "    follow = {}\n",
    "    for non_terminal in grammar:\n",
    "        follow[non_terminal] = set()\n",
    "\n",
    "    # Initialize FOLLOW(S) where S is the start symbol\n",
    "    follow[list(grammar.keys())[0]].add('$')\n",
    "\n",
    "    while True:\n",
    "        updated = False\n",
    "        for non_terminal, productions in grammar.items():\n",
    "            for production in productions:\n",
    "                for i, symbol in enumerate(production):\n",
    "                    if symbol in grammar:\n",
    "                        rest = production[i + 1:]\n",
    "                        first_rest = set()\n",
    "                        \n",
    "                        # Compute FIRST(rest)\n",
    "                        for s in rest:\n",
    "                            first_rest.update(first[s])\n",
    "                        \n",
    "                        # Add FIRST(rest) - {epsilon} to FOLLOW(symbol)\n",
    "                        for f in first_rest:\n",
    "                            if f != 'epsilon':\n",
    "                                if f not in follow[symbol]:\n",
    "                                    follow[symbol].add(f)\n",
    "                                    updated = True\n",
    "                        # If epsilon is in FIRST(rest) or FIRST(rest) is empty, add FOLLOW(non_terminal) to FOLLOW(symbol)\n",
    "                        if 'epsilon' in first_rest or not first_rest:\n",
    "                            follow_non_terminal = follow[non_terminal]\n",
    "                            for f in follow_non_terminal:\n",
    "                                if f not in follow[symbol]:\n",
    "                                    follow[symbol].add(f)\n",
    "                                    updated = True\n",
    "        if not updated:\n",
    "            break\n",
    "    return follow"
   ]
  },
  {
   "cell_type": "code",
   "execution_count": 44,
   "metadata": {},
   "outputs": [
    {
     "name": "stdout",
     "output_type": "stream",
     "text": [
      "\n",
      "FIRST Sets:\n",
      "First (S): a\n",
      "First (A): a\n",
      "\n",
      "FOLLOW Sets:\n",
      "Follow (S): $\n",
      "Follow (A): $\n"
     ]
    }
   ],
   "source": [
    "grammar = {}\n",
    "while True:\n",
    "    rule = input(\"Enter a CFG rule (e.g., S -> AB | a | b, or q to quit): \")\n",
    "    if rule.lower() == 'q':\n",
    "        break\n",
    "    \n",
    "    # Split the input rule into left and right parts\n",
    "    parts = rule.split('->')\n",
    "    if len(parts) == 2:\n",
    "        left, right = parts\n",
    "        grammar[left.strip()] = [symbol.strip() for symbol in right.split('|')]\n",
    "    else:\n",
    "        print(\"Invalid input format. Please use 'Non-Terminal -> Production' format.\")\n",
    "\n",
    "# Compute FIRST sets\n",
    "first_sets = compute_first(grammar)\n",
    "\n",
    "# Compute FOLLOW sets\n",
    "follow_sets = compute_follow(grammar, first_sets)\n",
    "\n",
    "# Print FIRST and FOLLOW sets\n",
    "print(\"\\nFIRST Sets:\")\n",
    "for non_terminal, first_set in first_sets.items():\n",
    "    print(f\"First ({non_terminal}): {', '.join(first_set)}\")\n",
    "\n",
    "print(\"\\nFOLLOW Sets:\")\n",
    "for non_terminal, follow_set in follow_sets.items():\n",
    "    print(f\"Follow ({non_terminal}): {', '.join(follow_set)}\")"
   ]
  }
 ],
 "metadata": {
  "kernelspec": {
   "display_name": "Python 3",
   "language": "python",
   "name": "python3"
  },
  "language_info": {
   "codemirror_mode": {
    "name": "ipython",
    "version": 3
   },
   "file_extension": ".py",
   "mimetype": "text/x-python",
   "name": "python",
   "nbconvert_exporter": "python",
   "pygments_lexer": "ipython3",
   "version": "3.11.2"
  },
  "orig_nbformat": 4
 },
 "nbformat": 4,
 "nbformat_minor": 2
}
