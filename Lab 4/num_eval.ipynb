{
 "cells": [
  {
   "cell_type": "code",
   "execution_count": 17,
   "metadata": {},
   "outputs": [],
   "source": [
    "def calculate_expression(expression):\n",
    "    precedence = {'^':1,'%':2, '*':2, '/':2, '+':3, '-':3}\n",
    "    for i in precedence:\n",
    "        if i in expression:\n",
    "            if i == '^':\n",
    "                index = expression.index(i)\n",
    "                ans = int(expression[index-1]) ** int(expression[index+1])\n",
    "                expression[index] = str(ans) \n",
    "                expression.pop(index+1)\n",
    "                expression.pop(index-1)\n",
    "                print(\"\".join(expression))\n",
    "                return calculate_expression(expression)\n",
    "            elif i == '%':\n",
    "                index = expression.index(i)\n",
    "                ans = int(expression[index-1]) % int(expression[index+1])\n",
    "                expression[index] = str(ans)\n",
    "                expression.pop(index+1)\n",
    "                expression.pop(index-1)\n",
    "                print(\"\".join(expression))\n",
    "                return calculate_expression(expression)\n",
    "            elif i == '*':\n",
    "                print(\"\".join(expression))\n",
    "                index = expression.index(i)\n",
    "                ans = int(expression[index-1]) * int(expression[index+1])\n",
    "                expression[index] = str(ans) \n",
    "                expression.pop(index+1)\n",
    "                expression.pop(index-1)\n",
    "                print(\"\".join(expression))\n",
    "                return calculate_expression(expression)\n",
    "            elif i == '/':\n",
    "                index = expression.index(i)\n",
    "                ans = float(expression[index-1]) / float(expression[index+1])\n",
    "                expression[index] = str(ans) \n",
    "                expression.pop(index+1)\n",
    "                expression.pop(index-1)\n",
    "                print(\"\".join(expression))\n",
    "                return calculate_expression(expression)\n",
    "            elif i == '+':\n",
    "                index = expression.index(i)\n",
    "                ans = int(expression[index-1]) + int(expression[index+1])\n",
    "                expression[index] = str(ans) \n",
    "                expression.pop(index+1)\n",
    "                expression.pop(index-1)\n",
    "                print(\"\".join(expression))\n",
    "                return calculate_expression(expression)\n",
    "            elif i == '-':\n",
    "                index = expression.index(i)\n",
    "                ans = int(expression[index-1]) - int(expression[index+1])\n",
    "                expression[index] = str(ans) \n",
    "                expression.pop(index+1)\n",
    "                expression.pop(index-1)\n",
    "                print(\"\".join(expression))\n",
    "                return calculate_expression(expression)\n"
   ]
  },
  {
   "cell_type": "code",
   "execution_count": 18,
   "metadata": {},
   "outputs": [
    {
     "name": "stdout",
     "output_type": "stream",
     "text": [
      "2+3*25-3\n",
      "2+3*25-3\n",
      "2+75-3\n",
      "77-3\n",
      "74\n"
     ]
    }
   ],
   "source": [
    "input_string = input(\"Enter String: \")\n",
    "expression = list(input_string)\n",
    "a = calculate_expression(expression)"
   ]
  }
 ],
 "metadata": {
  "kernelspec": {
   "display_name": "Python 3",
   "language": "python",
   "name": "python3"
  },
  "language_info": {
   "codemirror_mode": {
    "name": "ipython",
    "version": 3
   },
   "file_extension": ".py",
   "mimetype": "text/x-python",
   "name": "python",
   "nbconvert_exporter": "python",
   "pygments_lexer": "ipython3",
   "version": "3.11.2"
  },
  "orig_nbformat": 4
 },
 "nbformat": 4,
 "nbformat_minor": 2
}
