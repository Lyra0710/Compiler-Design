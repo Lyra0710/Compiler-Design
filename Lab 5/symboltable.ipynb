{
 "cells": [
  {
   "cell_type": "markdown",
   "metadata": {},
   "source": [
    "#### Symbol table contains a set of tokens. Inverted index is one of the indexing techniques for implementing the symbol table."
   ]
  },
  {
   "cell_type": "code",
   "execution_count": 15,
   "metadata": {},
   "outputs": [
    {
     "name": "stdout",
     "output_type": "stream",
     "text": [
      "List of Sets:\n",
      "Set 1: [2, 3, 4, 5]\n",
      "Set 2: [6, 7, 8, 9]\n",
      "Symbol Table:\n",
      "{0: [], 1: [[6, 7, 8, 9]], 2: [[2, 3, 4, 5]], 3: [], 4: []}\n",
      " 0: []\n",
      " 1: [[6, 7, 8, 9]]\n",
      " 2: [[2, 3, 4, 5]]\n",
      " 3: []\n",
      " 4: []\n"
     ]
    }
   ],
   "source": [
    "n = int(input(\"How many sets do you want to input: \"))\n",
    "sets = []\n",
    "\n",
    "# Creating Sets\n",
    "for i in range(n):\n",
    "    value = input(f\"Enter the set {i + 1}: \")\n",
    "    sets.append(list(map(int, value.split(\",\"))))\n",
    "\n",
    "print(\"List of Sets:\")\n",
    "for i, value in enumerate(sets):\n",
    "    print(f\"Set {i + 1}: {value}\")\n",
    "\n",
    "# Creating Symbol Table\n",
    "size = int(input(\"Enter the size of the symbol table: \"))\n",
    "symbol_table = {}\n",
    "for i in range(size):\n",
    "    symbol_table[i] = []\n",
    "\n",
    "# Defining Hash Function\n",
    "def hash(s, size):\n",
    "    node = min(s)% size\n",
    "    return node\n",
    "\n",
    "\n",
    "# Inserting into Symbol Table\n",
    "for set in sets:\n",
    "    min_value = min(set)\n",
    "    node = hash(set, size)\n",
    "    symbol_table[node].append(set)\n",
    "\n",
    "# Print the symbol table\n",
    "print(\"Symbol Table:\")\n",
    "for key, value in symbol_table.items():\n",
    "    print(f\" {key}: {value}\")\n"
   ]
  }
 ],
 "metadata": {
  "kernelspec": {
   "display_name": "Python 3",
   "language": "python",
   "name": "python3"
  },
  "language_info": {
   "codemirror_mode": {
    "name": "ipython",
    "version": 3
   },
   "file_extension": ".py",
   "mimetype": "text/x-python",
   "name": "python",
   "nbconvert_exporter": "python",
   "pygments_lexer": "ipython3",
   "version": "3.11.2"
  },
  "orig_nbformat": 4
 },
 "nbformat": 4,
 "nbformat_minor": 2
}
