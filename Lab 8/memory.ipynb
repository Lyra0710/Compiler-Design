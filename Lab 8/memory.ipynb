{
 "cells": [
  {
   "cell_type": "markdown",
   "metadata": {},
   "source": [
    "## Given a collection of processes and their sizes, and free memory blocks, implement the following memory allocation methods:\n",
    "### 1. First-fit\n",
    "### 2. Best-fit\n",
    "### 3. Worst fit\n",
    "### 4. Next fit\n",
    "\n",
    "### And demonstrate memory wastage of each approach\n",
    "\n",
    "### Task:\n",
    "### Input processes and their sizes\n",
    "### Input memory slot IDs and their sizes\n",
    "### For each memory allocation method, after completion,\n",
    "### Get the memory wastage and free slots and print accordingly"
   ]
  },
  {
   "cell_type": "markdown",
   "metadata": {},
   "source": [
    "#### First Fit"
   ]
  },
  {
   "cell_type": "code",
   "execution_count": 1,
   "metadata": {},
   "outputs": [],
   "source": [
    "def allocate_first_fit(processes, memory_slots):\n",
    "    memory_wastage = 0\n",
    "    free_slots = memory_slots.copy()\n",
    "\n",
    "    for process_id, process_size in processes.items():\n",
    "        allocated = False\n",
    "        for slot_id, slot_size in memory_slots.items():\n",
    "            if process_size <= slot_size:\n",
    "                print(f\"Allocating Process {process_id} of size {process_size} to Slot {slot_id}\")\n",
    "                memory_wastage += slot_size - process_size\n",
    "                del memory_slots[slot_id]\n",
    "                allocated = True\n",
    "                break\n",
    "        if not allocated:\n",
    "            print(f\"Unable to allocate Process {process_id} of size {process_size}\")\n",
    "\n",
    "    return memory_wastage, memory_slots"
   ]
  },
  {
   "cell_type": "code",
   "execution_count": 2,
   "metadata": {},
   "outputs": [],
   "source": [
    "\n",
    "def allocate_best_fit(processes, memory_slots):\n",
    "    memory_wastage = 0\n",
    "    free_slots = memory_slots.copy()\n",
    "\n",
    "    for process_id, process_size in processes.items():\n",
    "        allocated = False\n",
    "        best_fit_slot_id = None\n",
    "        for slot_id, slot_size in memory_slots.items():\n",
    "            if process_size <= slot_size:\n",
    "                if best_fit_slot_id is None or memory_slots[best_fit_slot_id] > slot_size:\n",
    "                    best_fit_slot_id = slot_id\n",
    "                    allocated = True\n",
    "        if allocated:\n",
    "            print(f\"Allocating Process {process_id} of size {process_size} to Slot {best_fit_slot_id}\")\n",
    "            memory_wastage += memory_slots[best_fit_slot_id] - process_size\n",
    "            del memory_slots[best_fit_slot_id]\n",
    "        else:\n",
    "            print(f\"Unable to allocate Process {process_id} of size {process_size}\")\n",
    "\n",
    "    return memory_wastage, memory_slots\n"
   ]
  },
  {
   "cell_type": "code",
   "execution_count": 3,
   "metadata": {},
   "outputs": [],
   "source": [
    "\n",
    "def allocate_worst_fit(processes, memory_slots):\n",
    "    memory_wastage = 0\n",
    "    free_slots = memory_slots.copy()\n",
    "\n",
    "    for process_id, process_size in processes.items():\n",
    "        allocated = False\n",
    "        worst_fit_slot_id = None\n",
    "        for slot_id, slot_size in memory_slots.items():\n",
    "            if process_size <= slot_size:\n",
    "                if worst_fit_slot_id is None or memory_slots[worst_fit_slot_id] < slot_size:\n",
    "                    worst_fit_slot_id = slot_id\n",
    "                    allocated = True\n",
    "        if allocated:\n",
    "            print(f\"Allocating Process {process_id} of size {process_size} to Slot {worst_fit_slot_id}\")\n",
    "            memory_wastage += memory_slots[worst_fit_slot_id] - process_size\n",
    "            del memory_slots[worst_fit_slot_id]\n",
    "        else:\n",
    "            print(f\"Unable to allocate Process {process_id} of size {process_size}\")\n",
    "\n",
    "    return memory_wastage, memory_slots\n",
    "\n"
   ]
  },
  {
   "cell_type": "code",
   "execution_count": 4,
   "metadata": {},
   "outputs": [],
   "source": [
    "def allocate_next_fit(processes, memory_slots):\n",
    "    memory_wastage = 0\n",
    "    free_slots = memory_slots.copy()\n",
    "\n",
    "    for process_id, process_size in processes.items():\n",
    "        allocated = False\n",
    "        next_fit_slot_id = None\n",
    "        for slot_id, slot_size in memory_slots.items():\n",
    "            if process_size <= slot_size:\n",
    "                if next_fit_slot_id is None or next_fit_slot_id > slot_id:\n",
    "                    next_fit_slot_id = slot_id\n",
    "                    allocated = True\n",
    "        if allocated:\n",
    "            print(f\"Allocating Process {process_id} of size {process_size} to Slot {next_fit_slot_id}\")\n",
    "            memory_wastage += memory_slots[next_fit_slot_id] - process_size\n",
    "            del memory_slots[next_fit_slot_id]\n",
    "        else:\n",
    "            print(f\"Unable to allocate Process {process_id} of size {process_size}\")\n",
    "\n",
    "    return memory_wastage, memory_slots\n"
   ]
  },
  {
   "cell_type": "code",
   "execution_count": 5,
   "metadata": {},
   "outputs": [
    {
     "name": "stdout",
     "output_type": "stream",
     "text": [
      "First-Fit Allocation:\n",
      "Allocating Process 1 of size 200 to Slot B\n",
      "Allocating Process 2 of size 100 to Slot A\n",
      "Unable to allocate Process 3 of size 300\n",
      "Memory Wastage: 100\n",
      "Free Slots:  {'C': 100, 'D': 200}\n",
      "\n",
      "Best-Fit Allocation:\n",
      "Allocating Process 1 of size 200 to Slot D\n",
      "Allocating Process 2 of size 100 to Slot C\n",
      "Unable to allocate Process 3 of size 300\n",
      "Memory Wastage: 0\n",
      "Free Slots:  {}\n",
      "\n",
      "Worst-Fit Allocation:\n",
      "Unable to allocate Process 1 of size 200\n",
      "Unable to allocate Process 2 of size 100\n",
      "Unable to allocate Process 3 of size 300\n",
      "Memory Wastage: 0\n",
      "Free Slots:  {}\n",
      "\n",
      "Next-Fit Allocation:\n",
      "Unable to allocate Process 1 of size 200\n",
      "Unable to allocate Process 2 of size 100\n",
      "Unable to allocate Process 3 of size 300\n",
      "Memory Wastage: 0\n",
      "Free Slots:  {}\n"
     ]
    }
   ],
   "source": [
    "# Example data\n",
    "processes = {\n",
    "    1: 200,\n",
    "    2: 100,\n",
    "    3: 300,\n",
    "}\n",
    "\n",
    "memory_slots = {\n",
    "    'A': 150,\n",
    "    'B': 250,\n",
    "    'C': 100,\n",
    "    'D': 200,\n",
    "    }\n",
    "\n",
    "print(\"First-Fit Allocation:\")\n",
    "memory_wastage, free_slots = allocate_first_fit(processes, memory_slots)\n",
    "print(f\"Memory Wastage: {memory_wastage}\")\n",
    "print(\"Free Slots: \", free_slots)\n",
    "\n",
    "print(\"\\nBest-Fit Allocation:\")\n",
    "memory_wastage, free_slots = allocate_best_fit(processes, memory_slots)\n",
    "print(f\"Memory Wastage: {memory_wastage}\")\n",
    "print(\"Free Slots: \", free_slots)\n",
    "\n",
    "print(\"\\nWorst-Fit Allocation:\")\n",
    "memory_wastage, free_slots = allocate_worst_fit(processes, memory_slots)\n",
    "print(f\"Memory Wastage: {memory_wastage}\")\n",
    "print(\"Free Slots: \", free_slots)\n",
    "\n",
    "print(\"\\nNext-Fit Allocation:\")\n",
    "memory_wastage, free_slots = allocate_next_fit(processes, memory_slots)\n",
    "print(f\"Memory Wastage: {memory_wastage}\")\n",
    "print(\"Free Slots: \", free_slots)"
   ]
  }
 ],
 "metadata": {
  "kernelspec": {
   "display_name": "Python 3",
   "language": "python",
   "name": "python3"
  },
  "language_info": {
   "codemirror_mode": {
    "name": "ipython",
    "version": 3
   },
   "file_extension": ".py",
   "mimetype": "text/x-python",
   "name": "python",
   "nbconvert_exporter": "python",
   "pygments_lexer": "ipython3",
   "version": "3.11.2"
  }
 },
 "nbformat": 4,
 "nbformat_minor": 2
}
