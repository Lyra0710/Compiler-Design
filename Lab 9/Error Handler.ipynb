{
 "cells": [
  {
   "cell_type": "markdown",
   "metadata": {},
   "source": [
    "## Create an error handler for code and spot syntax errors.\n",
    "### 1. Error detection\n",
    "###  2. Error report\n",
    "### 3. Error Recovery\n",
    "\n",
    "### Types of error:\n",
    "### 1. Compile time errors\n",
    "### 2. Runtime errors\n",
    "### 3. Logical Errors\n",
    "\n",
    "### Compiled time errors\n",
    "### 1. Lexical analysis\n",
    "### 2. Syntax analysis\n",
    "### 3. Semantic Analysis"
   ]
  },
  {
   "cell_type": "code",
   "execution_count": 17,
   "metadata": {},
   "outputs": [],
   "source": [
    "import ast"
   ]
  },
  {
   "cell_type": "code",
   "execution_count": 18,
   "metadata": {},
   "outputs": [],
   "source": [
    "# # Error detection and reporting for Compile-time errors\n",
    "# def compile_time_error_handler():\n",
    "#     try:\n",
    "#         # Lexical analysis\n",
    "#         undefined_var = 42  # This will generate a NameError\n",
    "#     except NameError as e:\n",
    "#         print(\"Compile-time error (Lexical analysis):\", e)\n",
    "\n",
    "#     try:\n",
    "#         # Syntax analysis\n",
    "#         eval(\"invalid syntax\")  # This will generate a SyntaxError\n",
    "#     except SyntaxError as e:\n",
    "#         print(\"Compile-time error (Syntax analysis):\", e)\n",
    "\n",
    "#     try:\n",
    "#         # Semantic analysis\n",
    "#         result = \"5\" + 2  # This will generate a TypeError\n",
    "#     except TypeError as e:\n",
    "#         print(\"Compile-time error (Semantic analysis):\", e)\n",
    "\n",
    "def compile_time_error_handler(file_path):\n",
    "    with open(file_path, 'r') as file:\n",
    "        code = file.read()\n",
    "\n",
    "    compile_successful = True\n",
    "    try:\n",
    "        compiled = compile(ast.parse(code), filename=file_path, mode='exec')\n",
    "        exec(compiled)\n",
    "    except (SyntaxError, NameError, TypeError) as e:\n",
    "        compile_successful = False\n",
    "        print(f\"Compile-time error in {file_path}: {e}\")\n",
    "\n",
    "    if compile_successful:\n",
    "        print(f\"Compilation of {file_path} was successful.\")"
   ]
  },
  {
   "cell_type": "code",
   "execution_count": 19,
   "metadata": {},
   "outputs": [],
   "source": [
    "# Error detection and reporting for Runtime errors\n",
    "# def runtime_error_handler():\n",
    "#     try:\n",
    "#         dividend = 10\n",
    "#         divisor = 0\n",
    "#         result = dividend / divisor  # This will generate a ZeroDivisionError\n",
    "#     except ZeroDivisionError as e:\n",
    "#         print(\"Runtime error (ZeroDivisionError):\", e)\n",
    "\n",
    "#     try:\n",
    "#         index = 5\n",
    "#         my_list = [1, 2, 3]\n",
    "#         element = my_list[index]  # This will generate an IndexError\n",
    "#     except IndexError as e:\n",
    "#         print(\"Runtime error (IndexError):\", e)\n",
    "\n",
    "# Error detection and reporting for Runtime errors\n",
    "def runtime_error_handler(file_path):\n",
    "    with open(file_path, 'r') as file:\n",
    "        code = file.read()\n",
    "\n",
    "    try:\n",
    "        exec(code)\n",
    "    except (ZeroDivisionError, IndexError) as e:\n",
    "        print(f\"Runtime error in {file_path}: {e}\")"
   ]
  },
  {
   "cell_type": "code",
   "execution_count": 20,
   "metadata": {},
   "outputs": [],
   "source": [
    "# Error detection and reporting for Logical errors\n",
    "def logical_error_handler():\n",
    "    try:\n",
    "        # Logical error example\n",
    "        num1 = 5\n",
    "        num2 = 3\n",
    "        if num1 > num2:\n",
    "            print(\"Num1 is greater.\")\n",
    "        else:\n",
    "            print(\"Num2 is greater.\")  # This is a logical error\n",
    "    except Exception as e:\n",
    "        print(\"Logical error:\", e)"
   ]
  },
  {
   "cell_type": "code",
   "execution_count": 21,
   "metadata": {},
   "outputs": [
    {
     "ename": "ZeroDivisionError",
     "evalue": "division by zero",
     "output_type": "error",
     "traceback": [
      "\u001b[1;31m---------------------------------------------------------------------------\u001b[0m",
      "\u001b[1;31mZeroDivisionError\u001b[0m                         Traceback (most recent call last)",
      "\u001b[1;32mc:\\Users\\Ananya\\OneDrive\\Projects and Labs\\Compiler Design Lab\\Lab 9\\Error Handler.ipynb Cell 6\u001b[0m line \u001b[0;36m5\n\u001b[0;32m      <a href='vscode-notebook-cell:/c%3A/Users/Ananya/OneDrive/Projects%20and%20Labs/Compiler%20Design%20Lab/Lab%209/Error%20Handler.ipynb#W4sZmlsZQ%3D%3D?line=2'>3</a>\u001b[0m file_path_2 \u001b[39m=\u001b[39m \u001b[39m\"\u001b[39m\u001b[39mcte.py\u001b[39m\u001b[39m\"\u001b[39m\n\u001b[0;32m      <a href='vscode-notebook-cell:/c%3A/Users/Ananya/OneDrive/Projects%20and%20Labs/Compiler%20Design%20Lab/Lab%209/Error%20Handler.ipynb#W4sZmlsZQ%3D%3D?line=3'>4</a>\u001b[0m \u001b[39m# Error handling for Compile-time errors\u001b[39;00m\n\u001b[1;32m----> <a href='vscode-notebook-cell:/c%3A/Users/Ananya/OneDrive/Projects%20and%20Labs/Compiler%20Design%20Lab/Lab%209/Error%20Handler.ipynb#W4sZmlsZQ%3D%3D?line=4'>5</a>\u001b[0m compile_time_error_handler(file_path)\n\u001b[0;32m      <a href='vscode-notebook-cell:/c%3A/Users/Ananya/OneDrive/Projects%20and%20Labs/Compiler%20Design%20Lab/Lab%209/Error%20Handler.ipynb#W4sZmlsZQ%3D%3D?line=6'>7</a>\u001b[0m \u001b[39m# Error handling for Runtime errors\u001b[39;00m\n\u001b[0;32m      <a href='vscode-notebook-cell:/c%3A/Users/Ananya/OneDrive/Projects%20and%20Labs/Compiler%20Design%20Lab/Lab%209/Error%20Handler.ipynb#W4sZmlsZQ%3D%3D?line=7'>8</a>\u001b[0m runtime_error_handler(file_path_2)\n",
      "\u001b[1;32mc:\\Users\\Ananya\\OneDrive\\Projects and Labs\\Compiler Design Lab\\Lab 9\\Error Handler.ipynb Cell 6\u001b[0m line \u001b[0;36m2\n\u001b[0;32m     <a href='vscode-notebook-cell:/c%3A/Users/Ananya/OneDrive/Projects%20and%20Labs/Compiler%20Design%20Lab/Lab%209/Error%20Handler.ipynb#W4sZmlsZQ%3D%3D?line=25'>26</a>\u001b[0m \u001b[39mtry\u001b[39;00m:\n\u001b[0;32m     <a href='vscode-notebook-cell:/c%3A/Users/Ananya/OneDrive/Projects%20and%20Labs/Compiler%20Design%20Lab/Lab%209/Error%20Handler.ipynb#W4sZmlsZQ%3D%3D?line=26'>27</a>\u001b[0m     compiled \u001b[39m=\u001b[39m \u001b[39mcompile\u001b[39m(ast\u001b[39m.\u001b[39mparse(code), filename\u001b[39m=\u001b[39mfile_path, mode\u001b[39m=\u001b[39m\u001b[39m'\u001b[39m\u001b[39mexec\u001b[39m\u001b[39m'\u001b[39m)\n\u001b[1;32m---> <a href='vscode-notebook-cell:/c%3A/Users/Ananya/OneDrive/Projects%20and%20Labs/Compiler%20Design%20Lab/Lab%209/Error%20Handler.ipynb#W4sZmlsZQ%3D%3D?line=27'>28</a>\u001b[0m     exec(compiled)\n\u001b[0;32m     <a href='vscode-notebook-cell:/c%3A/Users/Ananya/OneDrive/Projects%20and%20Labs/Compiler%20Design%20Lab/Lab%209/Error%20Handler.ipynb#W4sZmlsZQ%3D%3D?line=28'>29</a>\u001b[0m \u001b[39mexcept\u001b[39;00m (\u001b[39mSyntaxError\u001b[39;00m, \u001b[39mNameError\u001b[39;00m, \u001b[39mTypeError\u001b[39;00m) \u001b[39mas\u001b[39;00m e:\n\u001b[0;32m     <a href='vscode-notebook-cell:/c%3A/Users/Ananya/OneDrive/Projects%20and%20Labs/Compiler%20Design%20Lab/Lab%209/Error%20Handler.ipynb#W4sZmlsZQ%3D%3D?line=29'>30</a>\u001b[0m     compile_successful \u001b[39m=\u001b[39m \u001b[39mFalse\u001b[39;00m\n",
      "File \u001b[1;32mc:\\Users\\Ananya\\OneDrive\\Projects and Labs\\Compiler Design Lab\\Lab 9\\rte.py:3\u001b[0m\n\u001b[0;32m      1\u001b[0m dividend \u001b[39m=\u001b[39m \u001b[39m10\u001b[39m\n\u001b[0;32m      2\u001b[0m divisor \u001b[39m=\u001b[39m \u001b[39m0\u001b[39m\n\u001b[1;32m----> 3\u001b[0m result \u001b[39m=\u001b[39m dividend \u001b[39m/\u001b[39;49m divisor\n\u001b[0;32m      5\u001b[0m index \u001b[39m=\u001b[39m \u001b[39m5\u001b[39m\n\u001b[0;32m      6\u001b[0m my_list \u001b[39m=\u001b[39m [\u001b[39m1\u001b[39m, \u001b[39m2\u001b[39m, \u001b[39m3\u001b[39m]\n",
      "\u001b[1;31mZeroDivisionError\u001b[0m: division by zero"
     ]
    }
   ],
   "source": [
    "if __name__ == \"__main__\":\n",
    "    file_path = \"rte.py\"\n",
    "    file_path_2 = \"cte.py\"\n",
    "    # Error handling for Compile-time errors\n",
    "    compile_time_error_handler(file_path)\n",
    "\n",
    "    # Error handling for Runtime errors\n",
    "    runtime_error_handler(file_path_2)\n",
    "\n",
    "    # Error handling for Logical errors\n",
    "    logical_error_handler()"
   ]
  }
 ],
 "metadata": {
  "kernelspec": {
   "display_name": "Python 3",
   "language": "python",
   "name": "python3"
  },
  "language_info": {
   "codemirror_mode": {
    "name": "ipython",
    "version": 3
   },
   "file_extension": ".py",
   "mimetype": "text/x-python",
   "name": "python",
   "nbconvert_exporter": "python",
   "pygments_lexer": "ipython3",
   "version": "3.11.2"
  }
 },
 "nbformat": 4,
 "nbformat_minor": 2
}
