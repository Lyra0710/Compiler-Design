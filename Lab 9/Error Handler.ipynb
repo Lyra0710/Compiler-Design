{
 "cells": [
  {
   "cell_type": "markdown",
   "metadata": {},
   "source": [
    "## Create an error handler for code and spot syntax errors.\n",
    "### 1. Error detection\n",
    "###  2. Error report\n",
    "### 3. Error Recovery\n",
    "\n",
    "### Types of error:\n",
    "### 1. Compile time errors\n",
    "### 2. Runtime errors\n",
    "### 3. Logical Errors\n",
    "\n",
    "### Compiled time errors\n",
    "### 1. Lexical analysis\n",
    "### 2. Syntax analysis\n",
    "### 3. Semantic Analysis"
   ]
  },
  {
   "cell_type": "code",
   "execution_count": 1,
   "metadata": {},
   "outputs": [],
   "source": [
    "# Error detection and reporting for Compile-time errors\n",
    "def compile_time_error_handler():\n",
    "    try:\n",
    "        # Lexical analysis\n",
    "        undefined_var = 42  # This will generate a NameError\n",
    "    except NameError as e:\n",
    "        print(\"Compile-time error (Lexical analysis):\", e)\n",
    "\n",
    "    try:\n",
    "        # Syntax analysis\n",
    "        eval(\"invalid syntax\")  # This will generate a SyntaxError\n",
    "    except SyntaxError as e:\n",
    "        print(\"Compile-time error (Syntax analysis):\", e)\n",
    "\n",
    "    try:\n",
    "        # Semantic analysis\n",
    "        result = \"5\" + 2  # This will generate a TypeError\n",
    "    except TypeError as e:\n",
    "        print(\"Compile-time error (Semantic analysis):\", e)"
   ]
  },
  {
   "cell_type": "code",
   "execution_count": 2,
   "metadata": {},
   "outputs": [],
   "source": [
    "# Error detection and reporting for Runtime errors\n",
    "def runtime_error_handler():\n",
    "    try:\n",
    "        dividend = 10\n",
    "        divisor = 0\n",
    "        result = dividend / divisor  # This will generate a ZeroDivisionError\n",
    "    except ZeroDivisionError as e:\n",
    "        print(\"Runtime error (ZeroDivisionError):\", e)\n",
    "\n",
    "    try:\n",
    "        index = 5\n",
    "        my_list = [1, 2, 3]\n",
    "        element = my_list[index]  # This will generate an IndexError\n",
    "    except IndexError as e:\n",
    "        print(\"Runtime error (IndexError):\", e)"
   ]
  },
  {
   "cell_type": "code",
   "execution_count": 3,
   "metadata": {},
   "outputs": [],
   "source": [
    "# Error detection and reporting for Logical errors\n",
    "def logical_error_handler():\n",
    "    try:\n",
    "        # Logical error example\n",
    "        num1 = 5\n",
    "        num2 = 3\n",
    "        if num1 > num2:\n",
    "            print(\"Num1 is greater.\")\n",
    "        else:\n",
    "            print(\"Num2 is greater.\")  # This is a logical error\n",
    "    except Exception as e:\n",
    "        print(\"Logical error:\", e)"
   ]
  },
  {
   "cell_type": "code",
   "execution_count": 4,
   "metadata": {},
   "outputs": [
    {
     "name": "stdout",
     "output_type": "stream",
     "text": [
      "Compile-time error (Syntax analysis): invalid syntax (<string>, line 1)\n",
      "Compile-time error (Semantic analysis): can only concatenate str (not \"int\") to str\n",
      "Runtime error (ZeroDivisionError): division by zero\n",
      "Runtime error (IndexError): list index out of range\n",
      "Num1 is greater.\n"
     ]
    }
   ],
   "source": [
    "if __name__ == \"__main__\":\n",
    "    # Error handling for Compile-time errors\n",
    "    compile_time_error_handler()\n",
    "\n",
    "    # Error handling for Runtime errors\n",
    "    runtime_error_handler()\n",
    "\n",
    "    # Error handling for Logical errors\n",
    "    logical_error_handler()"
   ]
  }
 ],
 "metadata": {
  "kernelspec": {
   "display_name": "Python 3",
   "language": "python",
   "name": "python3"
  },
  "language_info": {
   "codemirror_mode": {
    "name": "ipython",
    "version": 3
   },
   "file_extension": ".py",
   "mimetype": "text/x-python",
   "name": "python",
   "nbconvert_exporter": "python",
   "pygments_lexer": "ipython3",
   "version": "3.11.2"
  }
 },
 "nbformat": 4,
 "nbformat_minor": 2
}
