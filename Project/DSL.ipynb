{
 "cells": [
  {
   "cell_type": "code",
   "execution_count": 3,
   "metadata": {},
   "outputs": [
    {
     "name": "stdout",
     "output_type": "stream",
     "text": [
      "Number of lines in the file: 110\n"
     ]
    }
   ],
   "source": [
    "file_path = \"DSL.ipynb\"  # Replace with the actual file path\n",
    "line_count = 0\n",
    "try:\n",
    "    with open(file_path, 'r') as file:\n",
    "        for line in file:\n",
    "            line_count += 1\n",
    "except FileNotFoundError:\n",
    "    print(\"File not found.\")\n",
    "    line_count = -1  # Indicates an error\n",
    "if line_count >= 0:\n",
    "    print(f\"Number of lines in the file: {line_count}\")"
   ]
  },
  {
   "cell_type": "code",
   "execution_count": 2,
   "metadata": {},
   "outputs": [
    {
     "name": "stdout",
     "output_type": "stream",
     "text": [
      "Similarity between the model answer and student's submission: 0.21296221377134072\n"
     ]
    }
   ],
   "source": [
    "import ast\n",
    "import difflib\n",
    "\n",
    "from asttokens import ASTTokens\n",
    "\n",
    "# Rest of the code remains the same as provided in the previous response.\n",
    "# Module 1: Function to parse Python source code into an AST\n",
    "def parse_to_ast(source_code):\n",
    "    return ast.parse(source_code)\n",
    "\n",
    "# Module 2: Function to calculate AST similarity\n",
    "def calculate_similarity(ast1, ast2):\n",
    "    # Convert ASTs to strings for direct comparison\n",
    "    ast_str1 = ast.dump(ast1)\n",
    "    ast_str2 = ast.dump(ast2)\n",
    "    \n",
    "    # Calculate the similarity between ASTs\n",
    "    similarity = difflib.SequenceMatcher(None, ast_str1, ast_str2).ratio()\n",
    "    return similarity\n",
    "\n",
    "# Module 3: Function to read source code from files\n",
    "def read_source_code_from_files(model_file, student_file):\n",
    "    with open(model_file, 'r') as model:\n",
    "        model_source = model.read()\n",
    "    with open(student_file, 'r') as student:\n",
    "        student_source = student.read()\n",
    "    return model_source, student_source\n",
    "\n",
    "# Module 4: Main function\n",
    "def main():\n",
    "    model_file = input(\"Enter the path to the model answer file: \")\n",
    "    student_file = input(\"Enter the path to the student's submission file: \")\n",
    "\n",
    "    model_source, student_source = read_source_code_from_files(model_file, student_file)\n",
    "    model_ast = parse_to_ast(model_source)\n",
    "    student_ast = parse_to_ast(student_source)\n",
    "\n",
    "    similarity = calculate_similarity(model_ast, student_ast)\n",
    "    print(f\"Similarity between the model answer and student's submission: {similarity}\")\n",
    "\n",
    "if __name__ == '__main__':\n",
    "    main()"
   ]
  }
 ],
 "metadata": {
  "kernelspec": {
   "display_name": "Python 3",
   "language": "python",
   "name": "python3"
  },
  "language_info": {
   "codemirror_mode": {
    "name": "ipython",
    "version": 3
   },
   "file_extension": ".py",
   "mimetype": "text/x-python",
   "name": "python",
   "nbconvert_exporter": "python",
   "pygments_lexer": "ipython3",
   "version": "3.11.2"
  }
 },
 "nbformat": 4,
 "nbformat_minor": 2
}
